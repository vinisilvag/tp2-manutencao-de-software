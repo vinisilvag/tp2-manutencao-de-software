{
 "cells": [
  {
   "cell_type": "code",
   "execution_count": 1,
   "id": "8d426537-776a-4941-af42-248fbce3aa63",
   "metadata": {},
   "outputs": [],
   "source": [
    "import os\n",
    "import requests\n",
    "from dotenv import load_dotenv\n",
    "\n",
    "load_dotenv()\n",
    "\n",
    "API_URL = \"https://openrouter.ai/api/v1/chat/completions\"\n",
    "headers = {\n",
    "    \"Authorization\": f\"Bearer {os.environ[\"OPENROUTER_API_KEY\"]}\",\n",
    "    \"Content-Type\": \"application/json\"\n",
    "}\n",
    "\n",
    "RQ = \"Analyze the following code snippet and identify the most prominent code smell according to established software engineering principles. If there is no discernible code smell, respond with 'None'. Then, suggest which modifications or refactorings could be applied to mitigate the identified code smell.\""
   ]
  },
  {
   "cell_type": "code",
   "execution_count": 2,
   "id": "6591fe07-c0f5-4042-94ac-64066de6952f",
   "metadata": {},
   "outputs": [],
   "source": [
    "def make_question(snippet):\n",
    "    return f\"\"\"{RQ}\n",
    "\n",
    "{snippet}\"\"\"\n",
    "\n",
    "def save_markdown(filename, content):\n",
    "    try:\n",
    "        with open(filename, 'w', encoding='utf-8') as file:\n",
    "            file.write(content)\n",
    "        print(f\"Successfully saved content to '{filename}'\")\n",
    "    except Exception as e:\n",
    "        print(f\"Error saving to file: {e}\")"
   ]
  },
  {
   "cell_type": "code",
   "execution_count": 3,
   "id": "abcecbc4-4827-4a87-90e9-f494610265f3",
   "metadata": {},
   "outputs": [
    {
     "name": "stdout",
     "output_type": "stream",
     "text": [
      "Snippet 0:\n",
      "Successfully saved content to 'responses/snippet0.md'\n"
     ]
    }
   ],
   "source": [
    "code_snippets = [\"\"\"aux = x\\nx = y\\ny = aux\"\"\"]\n",
    "\n",
    "for index, snippet in enumerate(code_snippets):\n",
    "    try:\n",
    "        print(f\"Snippet {index}:\")\n",
    "        data = {\n",
    "            \"model\": \"deepseek/deepseek-chat:free\",\n",
    "            \"messages\": [{\"role\": \"user\", \"content\": make_question(snippet)}]\n",
    "        }\n",
    "\n",
    "        response = requests.post(API_URL, json=data, headers=headers)\n",
    "        \n",
    "        if response.status_code == 200:\n",
    "            parsed_response = response.json()\n",
    "            answer = \"\"\n",
    "            for index, resp in enumerate(parsed_response[\"choices\"]):\n",
    "                content = resp[\"message\"][\"content\"]\n",
    "                if index == 0:\n",
    "                    answer += content\n",
    "                else:\n",
    "                    answer += (\"\\n\\n\" + content)\n",
    "            save_markdown(f\"responses/snippet{index}.md\", answer)\n",
    "        else:\n",
    "            print(\"Falha ao buscar dados da API do OpenRouter. Código de Status:\", response.status_code)\n",
    "    except requests.exceptions.RequestException as e:\n",
    "        print(f\"Error: {e}\")"
   ]
  },
  {
   "cell_type": "code",
   "execution_count": null,
   "id": "1690ef44-0ef9-4cdb-90c8-065070dee9a5",
   "metadata": {},
   "outputs": [],
   "source": []
  }
 ],
 "metadata": {
  "kernelspec": {
   "display_name": "Python 3 (ipykernel)",
   "language": "python",
   "name": "python3"
  },
  "language_info": {
   "codemirror_mode": {
    "name": "ipython",
    "version": 3
   },
   "file_extension": ".py",
   "mimetype": "text/x-python",
   "name": "python",
   "nbconvert_exporter": "python",
   "pygments_lexer": "ipython3",
   "version": "3.12.3"
  }
 },
 "nbformat": 4,
 "nbformat_minor": 5
}
